{
 "cells": [
  {
   "cell_type": "code",
   "execution_count": 6,
   "id": "8d9a0d2d-c3be-41bf-8fd8-8d56d093aaa8",
   "metadata": {},
   "outputs": [
    {
     "name": "stdout",
     "output_type": "stream",
     "text": [
      "Welcome to the Calculator!\n",
      "Select an operation:\n",
      "1. Addition\n",
      "2. Subtraction\n",
      "3. Multiplication\n",
      "4. Division\n",
      "5. Average\n"
     ]
    },
    {
     "name": "stdin",
     "output_type": "stream",
     "text": [
      "Enter your choice (1/2/3/4/5):  3\n",
      "Enter numbers separated by space:  5 6\n"
     ]
    },
    {
     "name": "stdout",
     "output_type": "stream",
     "text": [
      "Multiplication result: 30.0\n"
     ]
    }
   ],
   "source": [
    "def calculator():\n",
    "    print(\"Welcome to the Calculator!\")\n",
    "    print(\"Select an operation:\")\n",
    "    print(\"1. Addition\")\n",
    "    print(\"2. Subtraction\")\n",
    "    print(\"3. Multiplication\")\n",
    "    print(\"4. Division\")\n",
    "    print(\"5. Average\")\n",
    "    \n",
    "    try:\n",
    "        choice = int(input(\"Enter your choice (1/2/3/4/5): \"))\n",
    "        \n",
    "        if choice in [1, 2, 3, 4, 5]:\n",
    "            numbers = list(map(float, input(\"Enter numbers separated by space: \").split()))\n",
    "            \n",
    "            if not numbers:\n",
    "                print(\"No numbers entered!\")\n",
    "                return\n",
    "            \n",
    "            if choice == 1:\n",
    "                result = sum(numbers)\n",
    "                print(f\"Addition result: {result}\")\n",
    "            elif choice == 2:\n",
    "                result = Sub(numbers)\n",
    "                for num in numbers[1:]:\n",
    "                    result -= num\n",
    "                print(f\"Subtraction result: {result}\")\n",
    "            elif choice == 3:\n",
    "                result = 1\n",
    "                for num in numbers:\n",
    "                    result *= num\n",
    "                print(f\"Multiplication result: {result}\")\n",
    "            elif choice == 4:\n",
    "                result = numbers[0]\n",
    "                try:\n",
    "                    for num in numbers[1:]:\n",
    "                        result /= num\n",
    "                    print(f\"Division result: {result}\")\n",
    "                except ZeroDivisionError:\n",
    "                    print(\"Error: Division by zero is not allowed!\")\n",
    "            elif choice == 5:\n",
    "                result = sum(numbers) / len(numbers)\n",
    "                print(f\"Average result: {result}\")\n",
    "        else:\n",
    "            print(\"Invalid choice. Please select a number between 1 and 5.\")\n",
    "    except ValueError:\n",
    "        print(\"Invalid input! Please enter numeric values only.\")\n",
    "\n",
    "if __name__ == \"__main__\":\n",
    "    calculator()\n",
    "\n"
   ]
  },
  {
   "cell_type": "code",
   "execution_count": null,
   "id": "a7d65cde-17ae-43af-be28-08c7a7eb0541",
   "metadata": {},
   "outputs": [],
   "source": []
  }
 ],
 "metadata": {
  "kernelspec": {
   "display_name": "Python 3 (ipykernel)",
   "language": "python",
   "name": "python3"
  },
  "language_info": {
   "codemirror_mode": {
    "name": "ipython",
    "version": 3
   },
   "file_extension": ".py",
   "mimetype": "text/x-python",
   "name": "python",
   "nbconvert_exporter": "python",
   "pygments_lexer": "ipython3",
   "version": "3.12.7"
  }
 },
 "nbformat": 4,
 "nbformat_minor": 5
}
